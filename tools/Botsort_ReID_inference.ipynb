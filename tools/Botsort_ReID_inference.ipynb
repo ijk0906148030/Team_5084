{
 "cells": [
  {
   "cell_type": "code",
   "execution_count": 1,
   "id": "43c34cfa",
   "metadata": {},
   "outputs": [
    {
     "name": "stdout",
     "output_type": "stream",
     "text": [
      "修改前工作路徑: e:\\AI_CUP\\AI-driven_Future\\AICUP_Baseline_BoT-SORT-main\\tools\n",
      "修改後工作路徑: E:\\AI_CUP\\AI-driven_Future\\AICUP_Baseline_BoT-SORT-main\n",
      "\"E:\\AI_CUP\\AI-driven_Future\\AICUP_Baseline_BoT-SORT-main\\32_33_AI_CUP_testdataset\\AI_CUP_testdata\\images\\0902_130006_131041\"\n",
      "Namespace(ablation=False, agnostic_nms=False, appearance_thresh=0.65, aspect_ratio_thresh=0.0, augment=False, classes=None, cmc_method='sparseOptFlow', conf_thres=0.01, device='0', exist_ok=False, fast_reid_config='REID_WEIGHT\\\\final_data_resnext50_V19_CE_TRI_COS\\\\config.yaml', fast_reid_weights='REID_WEIGHT\\\\final_data_resnext50_V19_CE_TRI_COS\\\\model_final.pth', hide_labels_name=False, img_size=1280, iou_thres=0.55, jde=False, match_thresh=0.0, min_box_area=200, mot20=True, name='0902_130006_131041', new_track_thresh=0.0, nosave=False, project='runs/detect/final_public_private/test', proximity_thresh=0.0, save_conf=False, save_txt=False, source='E:\\\\AI_CUP\\\\AI-driven_Future\\\\AICUP_Baseline_BoT-SORT-main\\\\32_33_AI_CUP_testdataset\\\\AI_CUP_testdata\\\\images\\\\0902_130006_131041', trace=False, track_buffer=1, track_high_thresh=0.0, track_low_thresh=0.0, update=False, view_img=False, weights='YOLO_WEIGHT/best.pt', with_reid=True)\n",
      "Fusing layers...\n"
     ]
    }
   ],
   "source": [
    "import subprocess\n",
    "import os\n",
    "\n",
    "# 修改前工作路徑\n",
    "current_working_directory = os.getcwd()\n",
    "print(\"修改前工作路徑:\", current_working_directory)\n",
    "\n",
    "# 修改工作路徑\n",
    "os.chdir(r'E:\\AI_CUP\\AI-driven_Future\\AICUP_Baseline_BoT-SORT-main')\n",
    "\n",
    "# 獲取當前工作路徑\n",
    "current_working_directory = os.getcwd()\n",
    "print(\"修改後工作路徑:\", current_working_directory)\n",
    "\n",
    "# 設置批處理文件的路徑\n",
    "batch_file_path = 'trake_all_timestamps.bat'\n",
    "\n",
    "# 運行批處理文件並實時捕獲輸出\n",
    "process = subprocess.Popen([batch_file_path], shell=True, stdout=subprocess.PIPE, stderr=subprocess.PIPE, text=True)\n",
    "\n",
    "# 實時輸出批處理文件的運行結果\n",
    "while True:\n",
    "    output = process.stdout.readline()\n",
    "    if output == '' and process.poll() is not None:\n",
    "        break\n",
    "    if output:\n",
    "        print(output.strip())\n",
    "        \n",
    "# 輸出錯誤信息\n",
    "stderr = process.communicate()[1]\n",
    "if stderr:\n",
    "    print(\"Error:\", stderr)"
   ]
  }
 ],
 "metadata": {
  "kernelspec": {
   "display_name": "Python 3 (ipykernel)",
   "language": "python",
   "name": "python3"
  },
  "language_info": {
   "codemirror_mode": {
    "name": "ipython",
    "version": 3
   },
   "file_extension": ".py",
   "mimetype": "text/x-python",
   "name": "python",
   "nbconvert_exporter": "python",
   "pygments_lexer": "ipython3",
   "version": "3.7.16"
  }
 },
 "nbformat": 4,
 "nbformat_minor": 5
}
